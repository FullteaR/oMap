{
  "nbformat": 4,
  "nbformat_minor": 0,
  "metadata": {
    "colab": {
      "name": "cnn.ipynb",
      "version": "0.3.2",
      "provenance": [],
      "collapsed_sections": []
    },
    "kernelspec": {
      "name": "python3",
      "display_name": "Python 3"
    },
    "accelerator": "GPU"
  },
  "cells": [
    {
      "metadata": {
        "id": "2zYRXEp-CxkL",
        "colab_type": "code",
        "colab": {
          "base_uri": "https://localhost:8080/",
          "height": 108
        },
        "outputId": "d47dede1-9453-4c8d-ad26-01468007edd4"
      },
      "cell_type": "code",
      "source": [
        "#settings and import libraries.\n",
        "\n",
        "\n",
        "#TensorFlow\n",
        "import tensorflow as tf\n",
        "from keras.models import Sequential, Model\n",
        "from keras.layers import Dense, Dropout, Activation, Flatten\n",
        "from keras.layers import Conv2D, MaxPooling2D\n",
        "from matplotlib.pyplot import imshow\n",
        "tf.test.gpu_device_name()\n",
        "\n",
        "#Google Drive\n",
        "#Notes. Colaboratory may requires you a permission to access Google Drive.\n",
        "from google.colab import drive\n",
        "drive.mount('/content/drive')\n",
        "%cd drive/My\\ Drive/oMap\n",
        "%pwd\n",
        "\n",
        "#matplot\n",
        "%matplotlib inline\n",
        "tf.test.gpu_device_name()\n",
        "\n",
        "#others\n",
        "import cv2\n",
        "import numpy as np\n",
        "import random\n",
        "import os\n",
        "import shutil"
      ],
      "execution_count": 7,
      "outputs": [
        {
          "output_type": "stream",
          "text": [
            "Drive already mounted at /content/drive; to attempt to forcibly remount, call drive.mount(\"/content/drive\", force_remount=True).\n",
            "[Errno 2] No such file or directory: 'drive/My Drive/oMap'\n",
            "/content/drive/My Drive/oMap\n"
          ],
          "name": "stdout"
        }
      ]
    },
    {
      "metadata": {
        "id": "Swqn2MekSYb_",
        "colab_type": "code",
        "colab": {}
      },
      "cell_type": "code",
      "source": [
        "#globals\n",
        "num_classes = 2\n",
        "width,height=300,300\n",
        "shape = (width,height,3) #RGB,300*300"
      ],
      "execution_count": 0,
      "outputs": []
    },
    {
      "metadata": {
        "id": "oV8FcEboPWDJ",
        "colab_type": "code",
        "colab": {}
      },
      "cell_type": "code",
      "source": [
        "def clearFolder(path):\n",
        "  if os.path.isdir(path):\n",
        "    contents=os.listdir(path)\n",
        "    for content in contents:\n",
        "      shutil.rmtree(os.path.join(path,content))\n",
        "  else:\n",
        "    os.makedirs(path)"
      ],
      "execution_count": 0,
      "outputs": []
    },
    {
      "metadata": {
        "id": "cUzAIVEFMw4r",
        "colab_type": "code",
        "colab": {}
      },
      "cell_type": "code",
      "source": [
        "def postMap(all, white):\n",
        "    post = 255 - (imgWhite - imgAll)\n",
        "    post = cv2.cvtColor(post, cv2.COLOR_BGR2GRAY)\n",
        "    ret, post = cv2.threshold(post, 200, 255, cv2.THRESH_BINARY)\n",
        "    return post\n",
        "\n",
        "  \n",
        "def getPost(imgPost, comp):\n",
        "    circles = cv2.HoughCircles(imgPost, cv2.HOUGH_GRADIENT, 1,\n",
        "                               20, param1=50, param2=30, minRadius=95, maxRadius=125)\n",
        "    imgPost = cv2.medianBlur(imgPost, 3)\n",
        "    circles = np.uint16(np.around(circles))\n",
        "    imgPost = cv2.cvtColor(imgPost, cv2.COLOR_GRAY2BGR)\n",
        "\n",
        "    #create an img which only the position of posts is drawn.\n",
        "    for i in circles[0, :]:\n",
        "        cv2.circle(imgPost, (i[0], i[1]), 2, (0, 0, 255), 3)\n",
        "        cv2.circle(imgPost, (i[0], i[1]), i[2], (0, 255, 0), 2)\n",
        "    cv2.imwrite(\"detected{}.png\".format(comp), imgPost)\n",
        "\n",
        "    return circles[0, :]\n",
        "\n",
        "  \n",
        "def trim(img, centerX, centerY, width, height, name,save=True):\n",
        "    leftTop = (centerX - int(width / 2), centerY - int(height / 2))\n",
        "    imgTrim = img[leftTop[1]:leftTop[1] +\n",
        "                  height, leftTop[0]:leftTop[0] + width]\n",
        "    if save:\n",
        "        cv2.imwrite(name, imgTrim)\n",
        "    return imgTrim\n",
        "\n",
        "\n",
        "def inflation(folder,out):\n",
        "    files=os.listdir(folder)\n",
        "    for file in files:\n",
        "        if file[-4::]==(\".png\" or \".jpg\"):\n",
        "            img=cv2.imread(os.path.join(folder,file))\n",
        "            for i in range(4):\n",
        "                img=img.transpose(1,0,2)[:,::-1]\n",
        "                cv2.imwrite(os.path.join(out,file)[:-4:]+\"-{}.png\".format(90*i),img)\n",
        "                imgMirror=cv2.flip(img,1)\n",
        "                cv2.imwrite(os.path.join(out,file)[:-4:]+\"-{}-t.png\".format(90*i),imgMirror)\n",
        "\n",
        "\n"
      ],
      "execution_count": 0,
      "outputs": []
    },
    {
      "metadata": {
        "id": "Gj86GGbRNSH7",
        "colab_type": "code",
        "colab": {}
      },
      "cell_type": "code",
      "source": [
        "for comp in (38, 39):\n",
        "    imgAll = cv2.imread(\"all{0}.png\".format(comp))\n",
        "    imgWhite = cv2.imread(\"white{0}.png\".format(comp))\n",
        "    imgPost = postMap(imgAll, imgWhite)\n",
        "    cv2.imwrite(\"thresh{}.png\".format(comp),imgPost)\n",
        "    posts = getPost(imgPost, comp)\n",
        "    for i, post in enumerate(posts):\n",
        "        trim(imgWhite, post[0], post[1], width, height,\"Post/{0}post-{1}.png\".format(comp, i))\n",
        "        trim(imgWhite, random.randint(posts.min(axis=0)[0], posts.max(axis=0)[0]), random.randint(\n",
        "                posts.min(axis=0)[1], posts.max(axis=0)[1]), width, height, \"NOTPost/{0}not-{1}.png\".format(comp, i))\n",
        "\n",
        "    inflation(\"Post\",\"Post水増し\")\n",
        "    inflation(\"NOTPost\",\"NOTPost水増し\")"
      ],
      "execution_count": 0,
      "outputs": []
    },
    {
      "metadata": {
        "id": "0CHJ_AWLDXr2",
        "colab_type": "code",
        "colab": {}
      },
      "cell_type": "code",
      "source": [
        "num_classes = 2\n",
        "shape = (300,300,3) #RGB,300*300\n",
        "\n",
        "def cnn():\n",
        "  model = Sequential()\n",
        "  model.add(Conv2D(32,(3,3),padding=\"same\",activation=\"relu\",input_shape=shape))\n",
        "  model.add(Conv2D(32,(3,3),padding=\"same\",activation=\"relu\"))\n",
        "  model.add(MaxPooling2D(pool_size=(2,2)))\n",
        "  model.add(Dropout(0.25))\n",
        "  \n",
        "  model.add(Conv2D(64, (3, 3), padding='same', activation='relu'))\n",
        "  model.add(Conv2D(64, (3, 3), padding='same', activation='relu'))\n",
        "  model.add(MaxPooling2D(pool_size=(2, 2)))\n",
        "  \n",
        "  model.add(Flatten())\n",
        "  model.add(Dense(512, activation='relu'))\n",
        "  model.add(Dropout(0.5))\n",
        "  model.add(Dense(num_classes))\n",
        "  model.add(Activation('softmax'))\n",
        "  \n",
        "  return model\n",
        "  "
      ],
      "execution_count": 0,
      "outputs": []
    },
    {
      "metadata": {
        "id": "f6UDyJ4cEtNY",
        "colab_type": "code",
        "colab": {}
      },
      "cell_type": "code",
      "source": [
        "model = cnn()"
      ],
      "execution_count": 0,
      "outputs": []
    },
    {
      "metadata": {
        "id": "IEwXDdinFxrw",
        "colab_type": "code",
        "colab": {
          "base_uri": "https://localhost:8080/",
          "height": 544
        },
        "outputId": "c17f7e38-f0b4-4536-d7ec-af38c0246878"
      },
      "cell_type": "code",
      "source": [
        "model.summary()"
      ],
      "execution_count": 5,
      "outputs": [
        {
          "output_type": "stream",
          "text": [
            "_________________________________________________________________\n",
            "Layer (type)                 Output Shape              Param #   \n",
            "=================================================================\n",
            "conv2d_1 (Conv2D)            (None, 300, 300, 32)      896       \n",
            "_________________________________________________________________\n",
            "conv2d_2 (Conv2D)            (None, 300, 300, 32)      9248      \n",
            "_________________________________________________________________\n",
            "max_pooling2d_1 (MaxPooling2 (None, 150, 150, 32)      0         \n",
            "_________________________________________________________________\n",
            "dropout_1 (Dropout)          (None, 150, 150, 32)      0         \n",
            "_________________________________________________________________\n",
            "conv2d_3 (Conv2D)            (None, 150, 150, 64)      18496     \n",
            "_________________________________________________________________\n",
            "conv2d_4 (Conv2D)            (None, 150, 150, 64)      36928     \n",
            "_________________________________________________________________\n",
            "max_pooling2d_2 (MaxPooling2 (None, 75, 75, 64)        0         \n",
            "_________________________________________________________________\n",
            "flatten_1 (Flatten)          (None, 360000)            0         \n",
            "_________________________________________________________________\n",
            "dense_1 (Dense)              (None, 512)               184320512 \n",
            "_________________________________________________________________\n",
            "dropout_2 (Dropout)          (None, 512)               0         \n",
            "_________________________________________________________________\n",
            "dense_2 (Dense)              (None, 2)                 1026      \n",
            "_________________________________________________________________\n",
            "activation_1 (Activation)    (None, 2)                 0         \n",
            "=================================================================\n",
            "Total params: 184,387,106\n",
            "Trainable params: 184,387,106\n",
            "Non-trainable params: 0\n",
            "_________________________________________________________________\n"
          ],
          "name": "stdout"
        }
      ]
    },
    {
      "metadata": {
        "id": "5aqt9Ac3Guus",
        "colab_type": "code",
        "colab": {}
      },
      "cell_type": "code",
      "source": [
        "model.compile(loss='categorical_crossentropy',\n",
        "                  optimizer=keras.optimizers.SGD(lr=0.01, decay=1e-6, momentum=0.9, nesterov=True),\n",
        "                  metrics=['accuracy'])"
      ],
      "execution_count": 0,
      "outputs": []
    },
    {
      "metadata": {
        "id": "Nq61cuRkHBw6",
        "colab_type": "code",
        "colab": {}
      },
      "cell_type": "code",
      "source": [
        "history=model.fit()"
      ],
      "execution_count": 0,
      "outputs": []
    }
  ]
}