{
  "nbformat": 4,
  "nbformat_minor": 0,
  "metadata": {
    "colab": {
      "name": "cnn.ipynb",
      "version": "0.3.2",
      "provenance": [],
      "collapsed_sections": [],
      "include_colab_link": true
    },
    "kernelspec": {
      "name": "python3",
      "display_name": "Python 3"
    },
    "accelerator": "GPU"
  },
  "cells": [
    {
      "cell_type": "markdown",
      "metadata": {
        "id": "view-in-github",
        "colab_type": "text"
      },
      "source": [
        "[View in Colaboratory](https://colab.research.google.com/github/FullteaOfEEIC/oMap/blob/cnn/cnn.ipynb)"
      ]
    },
    {
      "metadata": {
        "id": "2zYRXEp-CxkL",
        "colab_type": "code",
        "colab": {
          "base_uri": "https://localhost:8080/",
          "height": 165
        },
        "outputId": "0fcbd744-0f5e-4833-b173-3772eb8c5a18"
      },
      "cell_type": "code",
      "source": [
        "#settings and import libraries.\n",
        "\n",
        "\n",
        "#TensorFlow\n",
        "import tensorflow as tf\n",
        "from keras.optimizers import Adam\n",
        "from keras.models import Sequential, Model\n",
        "from keras.layers import Dense, Dropout, Activation, Flatten\n",
        "from keras.layers import Conv2D, MaxPooling2D\n",
        "from matplotlib.pyplot import imshow\n",
        "print(tf.test.gpu_device_name())\n",
        "\n",
        "#Google Drive\n",
        "#Notes. Colaboratory may requires you a permission to access Google Drive.\n",
        "from google.colab import drive\n",
        "drive.mount('/content/drive')\n",
        "%cd drive/My\\ Drive/oMap\n",
        "%pwd\n",
        "\n",
        "#matplot\n",
        "%matplotlib inline\n",
        "tf.test.gpu_device_name()\n",
        "\n",
        "#tqdm\n",
        "from tqdm import tqdm\n",
        "\n",
        "#others\n",
        "import cv2\n",
        "import numpy as np\n",
        "import random\n",
        "import os\n",
        "import shutil"
      ],
      "execution_count": 15,
      "outputs": [
        {
          "output_type": "stream",
          "text": [
            "/device:GPU:0\n",
            "Drive already mounted at /content/drive; to attempt to forcibly remount, call drive.mount(\"/content/drive\", force_remount=True).\n",
            "[Errno 2] No such file or directory: 'drive/My Drive/oMap'\n",
            "/content/drive/My Drive/oMap\n"
          ],
          "name": "stdout"
        }
      ]
    },
    {
      "metadata": {
        "id": "Swqn2MekSYb_",
        "colab_type": "code",
        "colab": {}
      },
      "cell_type": "code",
      "source": [
        "#globals\n",
        "\n",
        "num_classes = 2\n",
        "width,height=300,300\n",
        "shape = (width,height,3) #RGB,300*300\n",
        "epochs=40\n",
        "batch_size=64"
      ],
      "execution_count": 0,
      "outputs": []
    },
    {
      "metadata": {
        "id": "oV8FcEboPWDJ",
        "colab_type": "code",
        "colab": {}
      },
      "cell_type": "code",
      "source": [
        "def clearFolder(path):\n",
        "  if os.path.isdir(path):\n",
        "    contents=os.listdir(path)\n",
        "    for content in contents:\n",
        "      try:\n",
        "        shutil.rmtree(os.path.join(path,content))\n",
        "      except NotADirectoryError:\n",
        "        os.remove(os.path.join(path,content))\n",
        "  else:\n",
        "    os.makedirs(path)"
      ],
      "execution_count": 0,
      "outputs": []
    },
    {
      "metadata": {
        "id": "cUzAIVEFMw4r",
        "colab_type": "code",
        "colab": {}
      },
      "cell_type": "code",
      "source": [
        "#Functions in order to trim the images of posts.\n",
        "\n",
        "def postMap(all, white):\n",
        "    post = 255 - (imgWhite - imgAll)\n",
        "    post = cv2.cvtColor(post, cv2.COLOR_BGR2GRAY)\n",
        "    ret, post = cv2.threshold(post, 200, 255, cv2.THRESH_BINARY)\n",
        "    return post\n",
        "\n",
        "  \n",
        "def getPost(imgPost, comp):\n",
        "    circles = cv2.HoughCircles(imgPost, cv2.HOUGH_GRADIENT, 1,\n",
        "                               20, param1=50, param2=30, minRadius=95, maxRadius=125)\n",
        "    imgPost = cv2.medianBlur(imgPost, 3)\n",
        "    circles = np.uint16(np.around(circles))\n",
        "    imgPost = cv2.cvtColor(imgPost, cv2.COLOR_GRAY2BGR)\n",
        "\n",
        "    #create an img which only the position of posts is drawn.\n",
        "    for i in circles[0, :]:\n",
        "        cv2.circle(imgPost, (i[0], i[1]), 2, (0, 0, 255), 3)\n",
        "        cv2.circle(imgPost, (i[0], i[1]), i[2], (0, 255, 0), 2)\n",
        "    cv2.imwrite(\"detected{}.png\".format(comp), imgPost)\n",
        "\n",
        "    return circles[0, :]\n",
        "\n",
        "  \n",
        "def trim(img, centerX, centerY, width, height, name,save=True):\n",
        "    leftTop = (centerX - int(width / 2), centerY - int(height / 2))\n",
        "    imgTrim = img[leftTop[1]:leftTop[1] +\n",
        "                  height, leftTop[0]:leftTop[0] + width]\n",
        "    if save:\n",
        "        cv2.imwrite(name, imgTrim)\n",
        "    return imgTrim\n",
        "\n",
        "\n",
        "def inflation(folder,out):\n",
        "    files=os.listdir(folder)\n",
        "    for file in files:\n",
        "        if file[-4::]==(\".png\" or \".jpg\"):\n",
        "            img=cv2.imread(os.path.join(folder,file))\n",
        "            for i in range(4):\n",
        "                img=img.transpose(1,0,2)[:,::-1]\n",
        "                cv2.imwrite(os.path.join(out,file)[:-4:]+\"-{}.png\".format(90*i),img)\n",
        "                imgMirror=cv2.flip(img,1)\n",
        "                cv2.imwrite(os.path.join(out,file)[:-4:]+\"-{}-t.png\".format(90*i),imgMirror)\n",
        "\n",
        "\n"
      ],
      "execution_count": 0,
      "outputs": []
    },
    {
      "metadata": {
        "id": "Gj86GGbRNSH7",
        "colab_type": "code",
        "colab": {
          "base_uri": "https://localhost:8080/",
          "height": 68
        },
        "outputId": "63c2fd84-418d-4714-ad18-56f49d0edfaf"
      },
      "cell_type": "code",
      "source": [
        "clearFolder(\"Post\")\n",
        "clearFolder(\"NOTPost\")\n",
        "clearFolder(\"Post水増し\")\n",
        "clearFolder(\"NOTPost水増し\")\n",
        "\n",
        "for comp in (38, 39):\n",
        "    imgAll = cv2.imread(\"all{0}.jpg\".format(comp))\n",
        "    imgWhite = cv2.imread(\"white{0}.jpg\".format(comp))\n",
        "    imgPost = postMap(imgAll, imgWhite)\n",
        "    cv2.imwrite(\"thresh{}.png\".format(comp),imgPost)\n",
        "    posts = getPost(imgPost, comp)\n",
        "    for i, post in tqdm(enumerate(posts)):\n",
        "        trim(imgWhite, post[0], post[1], width, height,\"Post/{0}post-{1}.png\".format(comp, i))\n",
        "        trim(imgWhite, random.randint(posts.min(axis=0)[0], posts.max(axis=0)[0]), random.randint(\n",
        "                posts.min(axis=0)[1], posts.max(axis=0)[1]), width, height, \"NOTPost/{0}not-{1}.png\".format(comp, i))\n",
        "\n",
        "inflation(\"Post\",\"Post水増し\")\n",
        "inflation(\"NOTPost\",\"NOTPost水増し\")\n",
        "print(\"Done\")\n",
        "    "
      ],
      "execution_count": 19,
      "outputs": [
        {
          "output_type": "stream",
          "text": [
            "38it [00:01, 36.17it/s]\n",
            "48it [00:00, 48.20it/s]\n"
          ],
          "name": "stderr"
        },
        {
          "output_type": "stream",
          "text": [
            "Done\n"
          ],
          "name": "stdout"
        }
      ]
    },
    {
      "metadata": {
        "id": "BhlqoCvzoWbV",
        "colab_type": "code",
        "colab": {
          "base_uri": "https://localhost:8080/",
          "height": 34
        },
        "outputId": "95af4678-6f03-487e-c349-945ce6153b41"
      },
      "cell_type": "code",
      "source": [
        "imgTrue=os.listdir(\"Post水増し\")\n",
        "imgFalse=os.listdir(\"NOTPost水増し\")\n",
        "size=len(imgTrue)# = len(imgFalse)\n",
        "print(size)\n",
        "\n",
        "imgTrain=[]\n",
        "labelTrain=[]\n",
        "imgTest=[]\n",
        "labelTest=[]\n",
        "\n",
        "for img in imgTrue[:int(size*0.8):]:\n",
        "  path=os.path.join(\"Post水増し\",img)\n",
        "  imgTrain.append(cv2.imread(path)/255)\n",
        "  labelTrain.append([1,0])\n",
        "for img in imgFalse[:int(size*0.8):]:\n",
        "  path=os.path.join(\"NOTPost水増し\",img)\n",
        "  imgTrain.append(cv2.imread(path)/255)\n",
        "  labelTrain.append([0,1])\n",
        "  \n",
        "for img in imgTrue[int(size*0.8)::]:\n",
        "  path=os.path.join(\"Post水増し\",img)\n",
        "  imgTest.append(cv2.imread(path)/255)\n",
        "  labelTest.append([1,0])\n",
        "for img in imgFalse[int(size*0.8)::]:\n",
        "  path=os.path.join(\"NOTPost水増し\",img)\n",
        "  imgTest.append(cv2.imread(path)/255)\n",
        "  labelTest.append([0,1])\n",
        "\n",
        "imgTrain=np.asarray(imgTrain,dtype=\"float32\")\n",
        "imgTest=np.asarray(imgTest,dtype=\"float32\")\n",
        "labelTrain=np.asarray(labelTrain,dtype=np.int)\n",
        "labelTest=np.asarray(labelTest,dtype=np.int)\n"
      ],
      "execution_count": 20,
      "outputs": [
        {
          "output_type": "stream",
          "text": [
            "688\n"
          ],
          "name": "stdout"
        }
      ]
    },
    {
      "metadata": {
        "id": "0CHJ_AWLDXr2",
        "colab_type": "code",
        "colab": {
          "base_uri": "https://localhost:8080/",
          "height": 646
        },
        "outputId": "6ac0e413-987f-47c3-e7a7-c6aa30301bd3"
      },
      "cell_type": "code",
      "source": [
        "def cnn():\n",
        "  model = Sequential()\n",
        "  model.add(Conv2D(16,3,padding=\"same\",input_shape=shape))\n",
        "  model.add(Activation(\"relu\"))\n",
        "  model.add(Conv2D(16,3,padding=\"same\"))\n",
        "  model.add(Activation(\"relu\"))\n",
        "  model.add(MaxPooling2D(pool_size=(2,2)))\n",
        "  model.add(Dropout(0.25))\n",
        "  \n",
        "  model.add(Conv2D(16, 32, padding='same'))\n",
        "  model.add(Activation(\"relu\"))\n",
        "  model.add(MaxPooling2D(pool_size=(2, 2)))\n",
        "  \n",
        "  model.add(Flatten())\n",
        "  model.add(Dense(1024))\n",
        "  model.add(Activation(\"relu\"))\n",
        "  model.add(Dropout(0.8))\n",
        "  model.add(Dense(num_classes))\n",
        "  model.add(Activation('softmax'))\n",
        "  \n",
        "  return model\n",
        "  \n",
        "  \n",
        "model = cnn()\n",
        "model.compile(loss='categorical_crossentropy',\n",
        "                  optimizer=Adam(lr=1e-4),metrics=[\"accuracy\"])\n",
        "model.summary()"
      ],
      "execution_count": 23,
      "outputs": [
        {
          "output_type": "stream",
          "text": [
            "_________________________________________________________________\n",
            "Layer (type)                 Output Shape              Param #   \n",
            "=================================================================\n",
            "conv2d_29 (Conv2D)           (None, 300, 300, 16)      448       \n",
            "_________________________________________________________________\n",
            "activation_43 (Activation)   (None, 300, 300, 16)      0         \n",
            "_________________________________________________________________\n",
            "conv2d_30 (Conv2D)           (None, 300, 300, 16)      2320      \n",
            "_________________________________________________________________\n",
            "activation_44 (Activation)   (None, 300, 300, 16)      0         \n",
            "_________________________________________________________________\n",
            "max_pooling2d_15 (MaxPooling (None, 150, 150, 16)      0         \n",
            "_________________________________________________________________\n",
            "dropout_15 (Dropout)         (None, 150, 150, 16)      0         \n",
            "_________________________________________________________________\n",
            "conv2d_31 (Conv2D)           (None, 150, 150, 16)      262160    \n",
            "_________________________________________________________________\n",
            "activation_45 (Activation)   (None, 150, 150, 16)      0         \n",
            "_________________________________________________________________\n",
            "max_pooling2d_16 (MaxPooling (None, 75, 75, 16)        0         \n",
            "_________________________________________________________________\n",
            "flatten_8 (Flatten)          (None, 90000)             0         \n",
            "_________________________________________________________________\n",
            "dense_15 (Dense)             (None, 1024)              92161024  \n",
            "_________________________________________________________________\n",
            "activation_46 (Activation)   (None, 1024)              0         \n",
            "_________________________________________________________________\n",
            "dropout_16 (Dropout)         (None, 1024)              0         \n",
            "_________________________________________________________________\n",
            "dense_16 (Dense)             (None, 2)                 2050      \n",
            "_________________________________________________________________\n",
            "activation_47 (Activation)   (None, 2)                 0         \n",
            "=================================================================\n",
            "Total params: 92,428,002\n",
            "Trainable params: 92,428,002\n",
            "Non-trainable params: 0\n",
            "_________________________________________________________________\n"
          ],
          "name": "stdout"
        }
      ]
    },
    {
      "metadata": {
        "id": "NAMNFEc0zwOc",
        "colab_type": "code",
        "colab": {
          "base_uri": "https://localhost:8080/",
          "height": 1394
        },
        "outputId": "f347bbc3-61b9-433a-80e5-1ada2d1cf52b"
      },
      "cell_type": "code",
      "source": [
        "history=model.fit(imgTrain,labelTrain,batch_size=batch_size,epochs=epochs,verbose=1,validation_data=(imgTest,labelTest))\n",
        "model.save(\"oMap.h5\")"
      ],
      "execution_count": 25,
      "outputs": [
        {
          "output_type": "stream",
          "text": [
            "Train on 1100 samples, validate on 276 samples\n",
            "Epoch 1/40\n",
            "1100/1100 [==============================] - 9s 8ms/step - loss: 0.6727 - acc: 0.5618 - val_loss: 0.7884 - val_acc: 0.4529\n",
            "Epoch 2/40\n",
            "1100/1100 [==============================] - 9s 8ms/step - loss: 0.6637 - acc: 0.5709 - val_loss: 0.7635 - val_acc: 0.4855\n",
            "Epoch 3/40\n",
            "1100/1100 [==============================] - 9s 8ms/step - loss: 0.6628 - acc: 0.5664 - val_loss: 0.7832 - val_acc: 0.4601\n",
            "Epoch 4/40\n",
            "1100/1100 [==============================] - 9s 8ms/step - loss: 0.6521 - acc: 0.5627 - val_loss: 0.8273 - val_acc: 0.4601\n",
            "Epoch 5/40\n",
            "1100/1100 [==============================] - 9s 8ms/step - loss: 0.6496 - acc: 0.5636 - val_loss: 0.9418 - val_acc: 0.4239\n",
            "Epoch 6/40\n",
            "1100/1100 [==============================] - 9s 8ms/step - loss: 0.6335 - acc: 0.6000 - val_loss: 1.0638 - val_acc: 0.4384\n",
            "Epoch 7/40\n",
            "1100/1100 [==============================] - 9s 8ms/step - loss: 0.6246 - acc: 0.5900 - val_loss: 0.8829 - val_acc: 0.4529\n",
            "Epoch 8/40\n",
            "1100/1100 [==============================] - 9s 8ms/step - loss: 0.6172 - acc: 0.6191 - val_loss: 1.0135 - val_acc: 0.4312\n",
            "Epoch 9/40\n",
            "1100/1100 [==============================] - 9s 8ms/step - loss: 0.6114 - acc: 0.6309 - val_loss: 1.2128 - val_acc: 0.4674\n",
            "Epoch 10/40\n",
            "1100/1100 [==============================] - 9s 8ms/step - loss: 0.5826 - acc: 0.6382 - val_loss: 1.1668 - val_acc: 0.4674\n",
            "Epoch 11/40\n",
            "1100/1100 [==============================] - 9s 8ms/step - loss: 0.5520 - acc: 0.6891 - val_loss: 0.9929 - val_acc: 0.4891\n",
            "Epoch 12/40\n",
            "1100/1100 [==============================] - 9s 8ms/step - loss: 0.5240 - acc: 0.7255 - val_loss: 1.2237 - val_acc: 0.4529\n",
            "Epoch 13/40\n",
            "1100/1100 [==============================] - 9s 8ms/step - loss: 0.4945 - acc: 0.7409 - val_loss: 1.2147 - val_acc: 0.4746\n",
            "Epoch 14/40\n",
            "1100/1100 [==============================] - 9s 8ms/step - loss: 0.4371 - acc: 0.7627 - val_loss: 1.3867 - val_acc: 0.4964\n",
            "Epoch 15/40\n",
            "1100/1100 [==============================] - 9s 8ms/step - loss: 0.4327 - acc: 0.7764 - val_loss: 1.5237 - val_acc: 0.4601\n",
            "Epoch 16/40\n",
            "1100/1100 [==============================] - 9s 8ms/step - loss: 0.4123 - acc: 0.7973 - val_loss: 1.7343 - val_acc: 0.4638\n",
            "Epoch 17/40\n",
            "1100/1100 [==============================] - 9s 8ms/step - loss: 0.3693 - acc: 0.8200 - val_loss: 1.6573 - val_acc: 0.4565\n",
            "Epoch 18/40\n",
            "1100/1100 [==============================] - 9s 8ms/step - loss: 0.3239 - acc: 0.8473 - val_loss: 1.7669 - val_acc: 0.4746\n",
            "Epoch 19/40\n",
            "1100/1100 [==============================] - 9s 8ms/step - loss: 0.2990 - acc: 0.8809 - val_loss: 1.9967 - val_acc: 0.4601\n",
            "Epoch 20/40\n",
            "1100/1100 [==============================] - 9s 8ms/step - loss: 0.2701 - acc: 0.8827 - val_loss: 2.0273 - val_acc: 0.4601\n",
            "Epoch 21/40\n",
            "1100/1100 [==============================] - 9s 8ms/step - loss: 0.2464 - acc: 0.8927 - val_loss: 2.0558 - val_acc: 0.4746\n",
            "Epoch 22/40\n",
            "1100/1100 [==============================] - 9s 8ms/step - loss: 0.2530 - acc: 0.9109 - val_loss: 2.1979 - val_acc: 0.4746\n",
            "Epoch 23/40\n",
            "1100/1100 [==============================] - 9s 8ms/step - loss: 0.2019 - acc: 0.9327 - val_loss: 2.0962 - val_acc: 0.4928\n",
            "Epoch 24/40\n",
            "1100/1100 [==============================] - 9s 8ms/step - loss: 0.1941 - acc: 0.9282 - val_loss: 2.5548 - val_acc: 0.4746\n",
            "Epoch 25/40\n",
            "1100/1100 [==============================] - 9s 8ms/step - loss: 0.1505 - acc: 0.9545 - val_loss: 2.4647 - val_acc: 0.4819\n",
            "Epoch 26/40\n",
            "1100/1100 [==============================] - 9s 8ms/step - loss: 0.1432 - acc: 0.9464 - val_loss: 2.8287 - val_acc: 0.4746\n",
            "Epoch 27/40\n",
            "1100/1100 [==============================] - 9s 8ms/step - loss: 0.1391 - acc: 0.9491 - val_loss: 2.5805 - val_acc: 0.4855\n",
            "Epoch 28/40\n",
            "1100/1100 [==============================] - 9s 8ms/step - loss: 0.1083 - acc: 0.9718 - val_loss: 3.1131 - val_acc: 0.4783\n",
            "Epoch 29/40\n",
            "1100/1100 [==============================] - 9s 8ms/step - loss: 0.0964 - acc: 0.9709 - val_loss: 3.0465 - val_acc: 0.4710\n",
            "Epoch 30/40\n",
            "1100/1100 [==============================] - 9s 8ms/step - loss: 0.0724 - acc: 0.9818 - val_loss: 3.4027 - val_acc: 0.4746\n",
            "Epoch 31/40\n",
            "1100/1100 [==============================] - 9s 8ms/step - loss: 0.1041 - acc: 0.9845 - val_loss: 3.3309 - val_acc: 0.4601\n",
            "Epoch 32/40\n",
            "1100/1100 [==============================] - 9s 8ms/step - loss: 0.0712 - acc: 0.9818 - val_loss: 3.3483 - val_acc: 0.4746\n",
            "Epoch 33/40\n",
            "1100/1100 [==============================] - 9s 8ms/step - loss: 0.0748 - acc: 0.9745 - val_loss: 3.0079 - val_acc: 0.4674\n",
            "Epoch 34/40\n",
            "1100/1100 [==============================] - 9s 8ms/step - loss: 0.0434 - acc: 0.9945 - val_loss: 3.9555 - val_acc: 0.4601\n",
            "Epoch 35/40\n",
            "1100/1100 [==============================] - 9s 8ms/step - loss: 0.0461 - acc: 0.9864 - val_loss: 3.6338 - val_acc: 0.4493\n",
            "Epoch 36/40\n",
            "1100/1100 [==============================] - 9s 8ms/step - loss: 0.0348 - acc: 0.9945 - val_loss: 4.1690 - val_acc: 0.4638\n",
            "Epoch 37/40\n",
            "1100/1100 [==============================] - 9s 8ms/step - loss: 0.0350 - acc: 0.9945 - val_loss: 3.6751 - val_acc: 0.4674\n",
            "Epoch 38/40\n",
            "1100/1100 [==============================] - 9s 8ms/step - loss: 0.0453 - acc: 0.9891 - val_loss: 3.6948 - val_acc: 0.4565\n",
            "Epoch 39/40\n",
            "1100/1100 [==============================] - 9s 8ms/step - loss: 0.0340 - acc: 0.9936 - val_loss: 3.8859 - val_acc: 0.4710\n",
            "Epoch 40/40\n",
            "1100/1100 [==============================] - 9s 8ms/step - loss: 0.0178 - acc: 0.9973 - val_loss: 3.8884 - val_acc: 0.4565\n"
          ],
          "name": "stdout"
        }
      ]
    }
  ]
}